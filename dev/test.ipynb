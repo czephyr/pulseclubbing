{
 "cells": [
  {
   "cell_type": "code",
   "execution_count": 5,
   "metadata": {},
   "outputs": [
    {
     "data": {
      "text/html": [
       "<div>\n",
       "<style scoped>\n",
       "    .dataframe tbody tr th:only-of-type {\n",
       "        vertical-align: middle;\n",
       "    }\n",
       "\n",
       "    .dataframe tbody tr th {\n",
       "        vertical-align: top;\n",
       "    }\n",
       "\n",
       "    .dataframe thead th {\n",
       "        text-align: right;\n",
       "    }\n",
       "</style>\n",
       "<table border=\"1\" class=\"dataframe\">\n",
       "  <thead>\n",
       "    <tr style=\"text-align: right;\">\n",
       "      <th></th>\n",
       "      <th>date</th>\n",
       "      <th>name</th>\n",
       "      <th>location</th>\n",
       "      <th>url</th>\n",
       "    </tr>\n",
       "  </thead>\n",
       "  <tbody>\n",
       "    <tr>\n",
       "      <th>0</th>\n",
       "      <td>2023-08-04</td>\n",
       "      <td>nice event</td>\n",
       "      <td>arci nice</td>\n",
       "      <td>https:nice-arci.com</td>\n",
       "    </tr>\n",
       "    <tr>\n",
       "      <th>1</th>\n",
       "      <td>2023-08-04</td>\n",
       "      <td>Summer Music Fest</td>\n",
       "      <td>Greenfield Park</td>\n",
       "      <td>https://summermusicfestny.com</td>\n",
       "    </tr>\n",
       "    <tr>\n",
       "      <th>2</th>\n",
       "      <td>2023-08-20</td>\n",
       "      <td>TechX Conference</td>\n",
       "      <td>Silicon Valley Convention Center</td>\n",
       "      <td>https://techxconf.com</td>\n",
       "    </tr>\n",
       "    <tr>\n",
       "      <th>3</th>\n",
       "      <td>2023-08-20</td>\n",
       "      <td>Foodie's Delight</td>\n",
       "      <td>Downtown Culinary District</td>\n",
       "      <td>https://foodiesdelightchicago.com</td>\n",
       "    </tr>\n",
       "    <tr>\n",
       "      <th>4</th>\n",
       "      <td>2023-08-20</td>\n",
       "      <td>Art in the Park</td>\n",
       "      <td>Central Park</td>\n",
       "      <td>https://artintheparkldn.com</td>\n",
       "    </tr>\n",
       "  </tbody>\n",
       "</table>\n",
       "</div>"
      ],
      "text/plain": [
       "         date               name                          location  \\\n",
       "0  2023-08-04         nice event                         arci nice   \n",
       "1  2023-08-04  Summer Music Fest                   Greenfield Park   \n",
       "2  2023-08-20   TechX Conference  Silicon Valley Convention Center   \n",
       "3  2023-08-20   Foodie's Delight        Downtown Culinary District   \n",
       "4  2023-08-20    Art in the Park                      Central Park   \n",
       "\n",
       "                                 url  \n",
       "0                https:nice-arci.com  \n",
       "1      https://summermusicfestny.com  \n",
       "2              https://techxconf.com  \n",
       "3  https://foodiesdelightchicago.com  \n",
       "4        https://artintheparkldn.com  "
      ]
     },
     "execution_count": 5,
     "metadata": {},
     "output_type": "execute_result"
    }
   ],
   "source": [
    "import pandas as pd\n",
    "\n",
    "# Read the CSV files into dataframes\n",
    "df1 = pd.read_csv('data/august.csv')\n",
    "df2 = pd.read_csv('data/generated.csv')\n",
    "\n",
    "# Concatenate the two dataframes\n",
    "concatenated_df = pd.concat([df1, df2])\n",
    "\n",
    "# Drop duplicates based on all columns (date, name, location, url)\n",
    "unique_events_df = concatenated_df.drop_duplicates()\n",
    "\n",
    "# Print the result\n",
    "unique_events_df.head()"
   ]
  },
  {
   "cell_type": "code",
   "execution_count": 5,
   "metadata": {},
   "outputs": [
    {
     "data": {
      "text/plain": [
       "'2023'"
      ]
     },
     "execution_count": 5,
     "metadata": {},
     "output_type": "execute_result"
    }
   ],
   "source": [
    "from datetime import datetime\n",
    "\n",
    "current_date = datetime.now()\n",
    "current_month_name = current_date.strftime('%Y')\n",
    "current_month_name"
   ]
  },
  {
   "cell_type": "code",
   "execution_count": 18,
   "metadata": {},
   "outputs": [
    {
     "name": "stdout",
     "output_type": "stream",
     "text": [
      "0\n",
      "1\n",
      "2\n",
      "3\n",
      "4\n",
      "5\n",
      "6\n",
      "7\n",
      "8\n",
      "9\n",
      "10\n",
      "11\n",
      "12\n",
      "13\n",
      "14\n",
      "15\n",
      "16\n",
      "17\n",
      "18\n",
      "19\n",
      "20\n",
      "21\n",
      "22\n",
      "23\n",
      "24\n",
      "25\n",
      "26\n",
      "27\n",
      "28\n",
      "29\n",
      "30\n",
      "33\n",
      "34\n"
     ]
    }
   ],
   "source": [
    "from datetime import datetime,date\n",
    "import pandas as pd\n",
    "\n",
    "current_year = datetime.now().strftime('%Y')\n",
    "\n",
    "for month, scraped_by_month in scraped.groupby(scraped['date_and_time'].dt.month):\n",
    "    stored_df = pd.read_csv(f'../data/{current_year}/{month}.csv',parse_dates=[\"date_and_time\"])\n",
    "    concat = pd.concat([stored_df, scraped_by_month])\n",
    "    concat.drop_duplicates(inplace=True)\n",
    "    concat.to_csv(f'../data/{current_year}/{month}.csv',index=False)"
   ]
  }
 ],
 "metadata": {
  "kernelspec": {
   "display_name": "Python 3",
   "language": "python",
   "name": "python3"
  },
  "language_info": {
   "codemirror_mode": {
    "name": "ipython",
    "version": 3
   },
   "file_extension": ".py",
   "mimetype": "text/x-python",
   "name": "python",
   "nbconvert_exporter": "python",
   "pygments_lexer": "ipython3",
   "version": "3.10.12"
  },
  "orig_nbformat": 4
 },
 "nbformat": 4,
 "nbformat_minor": 2
}
