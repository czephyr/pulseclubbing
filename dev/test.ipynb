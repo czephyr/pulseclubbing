{
 "cells": [
  {
   "cell_type": "code",
   "execution_count": 5,
   "metadata": {},
   "outputs": [
    {
     "data": {
      "text/html": [
       "<div>\n",
       "<style scoped>\n",
       "    .dataframe tbody tr th:only-of-type {\n",
       "        vertical-align: middle;\n",
       "    }\n",
       "\n",
       "    .dataframe tbody tr th {\n",
       "        vertical-align: top;\n",
       "    }\n",
       "\n",
       "    .dataframe thead th {\n",
       "        text-align: right;\n",
       "    }\n",
       "</style>\n",
       "<table border=\"1\" class=\"dataframe\">\n",
       "  <thead>\n",
       "    <tr style=\"text-align: right;\">\n",
       "      <th></th>\n",
       "      <th>date</th>\n",
       "      <th>name</th>\n",
       "      <th>location</th>\n",
       "      <th>url</th>\n",
       "    </tr>\n",
       "  </thead>\n",
       "  <tbody>\n",
       "    <tr>\n",
       "      <th>0</th>\n",
       "      <td>2023-08-04</td>\n",
       "      <td>nice event</td>\n",
       "      <td>arci nice</td>\n",
       "      <td>https:nice-arci.com</td>\n",
       "    </tr>\n",
       "    <tr>\n",
       "      <th>1</th>\n",
       "      <td>2023-08-04</td>\n",
       "      <td>Summer Music Fest</td>\n",
       "      <td>Greenfield Park</td>\n",
       "      <td>https://summermusicfestny.com</td>\n",
       "    </tr>\n",
       "    <tr>\n",
       "      <th>2</th>\n",
       "      <td>2023-08-20</td>\n",
       "      <td>TechX Conference</td>\n",
       "      <td>Silicon Valley Convention Center</td>\n",
       "      <td>https://techxconf.com</td>\n",
       "    </tr>\n",
       "    <tr>\n",
       "      <th>3</th>\n",
       "      <td>2023-08-20</td>\n",
       "      <td>Foodie's Delight</td>\n",
       "      <td>Downtown Culinary District</td>\n",
       "      <td>https://foodiesdelightchicago.com</td>\n",
       "    </tr>\n",
       "    <tr>\n",
       "      <th>4</th>\n",
       "      <td>2023-08-20</td>\n",
       "      <td>Art in the Park</td>\n",
       "      <td>Central Park</td>\n",
       "      <td>https://artintheparkldn.com</td>\n",
       "    </tr>\n",
       "  </tbody>\n",
       "</table>\n",
       "</div>"
      ],
      "text/plain": [
       "         date               name                          location  \\\n",
       "0  2023-08-04         nice event                         arci nice   \n",
       "1  2023-08-04  Summer Music Fest                   Greenfield Park   \n",
       "2  2023-08-20   TechX Conference  Silicon Valley Convention Center   \n",
       "3  2023-08-20   Foodie's Delight        Downtown Culinary District   \n",
       "4  2023-08-20    Art in the Park                      Central Park   \n",
       "\n",
       "                                 url  \n",
       "0                https:nice-arci.com  \n",
       "1      https://summermusicfestny.com  \n",
       "2              https://techxconf.com  \n",
       "3  https://foodiesdelightchicago.com  \n",
       "4        https://artintheparkldn.com  "
      ]
     },
     "execution_count": 5,
     "metadata": {},
     "output_type": "execute_result"
    }
   ],
   "source": [
    "import pandas as pd\n",
    "\n",
    "# Read the CSV files into dataframes\n",
    "df1 = pd.read_csv('data/august.csv')\n",
    "df2 = pd.read_csv('data/generated.csv')\n",
    "\n",
    "# Concatenate the two dataframes\n",
    "concatenated_df = pd.concat([df1, df2])\n",
    "\n",
    "# Drop duplicates based on all columns (date, name, location, url)\n",
    "unique_events_df = concatenated_df.drop_duplicates()\n",
    "\n",
    "# Print the result\n",
    "unique_events_df.head()"
   ]
  },
  {
   "cell_type": "code",
   "execution_count": 7,
   "metadata": {},
   "outputs": [
    {
     "data": {
      "text/plain": [
       "'August'"
      ]
     },
     "execution_count": 7,
     "metadata": {},
     "output_type": "execute_result"
    }
   ],
   "source": [
    "from datetime import datetime\n",
    "\n",
    "current_date = datetime.now()\n",
    "current_month_name = current_date.strftime('%B')\n",
    "current_month_name"
   ]
  }
 ],
 "metadata": {
  "kernelspec": {
   "display_name": "Python 3",
   "language": "python",
   "name": "python3"
  },
  "language_info": {
   "codemirror_mode": {
    "name": "ipython",
    "version": 3
   },
   "file_extension": ".py",
   "mimetype": "text/x-python",
   "name": "python",
   "nbconvert_exporter": "python",
   "pygments_lexer": "ipython3",
   "version": "3.9.16"
  },
  "orig_nbformat": 4
 },
 "nbformat": 4,
 "nbformat_minor": 2
}
