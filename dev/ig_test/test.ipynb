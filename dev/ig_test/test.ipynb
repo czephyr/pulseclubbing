{
 "cells": [
  {
   "cell_type": "markdown",
   "metadata": {},
   "source": [
    "### Instagram posts retriever"
   ]
  },
  {
   "cell_type": "code",
   "execution_count": 5,
   "metadata": {},
   "outputs": [],
   "source": [
    "from datetime import datetime, timedelta\n",
    "from itertools import dropwhile, takewhile\n",
    "import time\n",
    "import os\n",
    "import instaloader\n",
    "import pandas as pd\n",
    "import numpy as np\n",
    "import re\n",
    "from unidecode import unidecode\n",
    "from ftfy import fix_text"
   ]
  },
  {
   "cell_type": "markdown",
   "metadata": {},
   "source": [
    "### Create dataframe scraping all pages"
   ]
  },
  {
   "cell_type": "code",
   "execution_count": 6,
   "metadata": {},
   "outputs": [],
   "source": [
    "# Save all\n",
    "def update_db(users: list):\n",
    "    L = instaloader.Instaloader()\n",
    "    for user in users:\n",
    "        profile = instaloader.Profile.from_username(L.context, user)\n",
    "        posts = profile.get_posts()\n",
    "        SINCE = datetime.today()\n",
    "        UNTIL = SINCE - timedelta(days=15)\n",
    "        for post in takewhile(lambda p: p.date > UNTIL, dropwhile(lambda p: p.date > SINCE, posts)):\n",
    "            # L.download_post(post, user)\n",
    "            print(post.date)\n",
    "            print(post.caption)\n",
    "            print(post.shortcode)\n",
    "            time.sleep(2)\n",
    "        time.sleep(30)"
   ]
  },
  {
   "cell_type": "code",
   "execution_count": 7,
   "metadata": {},
   "outputs": [
    {
     "name": "stdout",
     "output_type": "stream",
     "text": [
      "2023-09-08 13:38:25\n",
      "@angelo_mai_roma è il tuo teatro e ha ideato una FORMULA MAGICA per partecipare e sostenere la sua vita teatrale: \n",
      "✨ 5 spettacoli - 40 € + Bag\n",
      "✨10 spettacoli - 80 € + \n",
      "  T-shirt \n",
      "✨15 spettacoli - 120 € + Bag + T-Shirt \n",
      "Ti aspetta MAGÌA: un anno di teatro, 24 compagnie, 3 laboratori annuali per tutte le età, 5 produzioni @bluemotion.theatre / Angelo Mai \n",
      "Potrai acquistarla già dal 9 al 13 settembre durante lo spettacolo Sogno Creatore di @giorgina_pi \n",
      "[Biglietti ancora disponibili per il 10, 12 e 13 settembre/ link in bio]\n",
      ".\n",
      ".\n",
      ".\n",
      ".\n",
      ".\n",
      ".\n",
      ".\n",
      ".\n",
      "#angelomai #teatro #bluemotion #giorginapi #formulamagica #magia #teatroroma #eventiroma #theatre\n",
      "Cw7sujMNsAw\n",
      "2023-09-05 16:56:05\n",
      "Il 12/09 h 18.30 presentiamo 𝗙𝗼𝘁𝗼𝗿𝗼𝗺𝗮𝗻𝘇𝗮 un progetto di Giorgina Pi a cui teniamo molto. Insieme a noi ci sarà Barbara Leda Kenny.  𝗙𝗼𝘁𝗼𝗿𝗼𝗺𝗮𝗻𝘇𝗮 è un laboratorio gratuito per donne dai  65 anni in su. Il suo obiettivo è costruire un fotoromanzo della propria vita.\n",
      "Un oggetto cartaceo, un capolavoro personale fatto di foto, didascalie, scansioni temporali e personaggi veri e inventati.\n",
      "Il laboratorio si svolgerà da ottobre a maggio a Roma all’Angelo Mai.\n",
      "Nei mesi si selezioneranno racconti, snodi, foto, cartoline, ma anche viaggi desiderati e mai compiuti, collage con volti mai davvero avvicinati, episodi mancanti e improvvisamente recuperati.\n",
      "Perché ognuna avrà la possibilità di ripercorrere ciò che vuole e recuperare ciò che non ha mai fatto nella propria vita.\n",
      "“Lo stimolo di lavorare con donne anziane è stato scatenato da un articolo di Barbara Leda Kenny uscito esattamente un anno fa dall’uscita del quale ho deciso di generare incontro e possibilità per la creatività delle donne più anziane di me - queste donne avranno anche la possibilità di seguire la programmazione teatrale (e non solo) dell’Angelo Mai e di iniziare a considerarlo un luogo di riferimento.\n",
      "Fotoromanza è anche un omaggio alla poeta Niki Rebecca Papagheorghiou, attualmente al centro della nostra ricerca, che giovanissima inventò un fotoromanzo delle sua vita per depistare dagli stereotipi su se stessa e denunciare la difficoltà di essere una donna libera. Se Niki Rebecca Papagheorghiou non fosse stata allontanata per la sua fragilità psichica oggi avrebbe 76 anni.\n",
      "Fotoromanza fa parte del più ampio progetto Sogno creatore curato dalla nostra compagnia Bluemotion.”\n",
      ".\n",
      ".\n",
      ".\n",
      ".\n",
      ".\n",
      ".\n",
      ".\n",
      ".\n",
      ".\n",
      ".\n",
      ".\n",
      ".\n",
      ".\n",
      ".\n",
      ".\n",
      ".\n",
      ".\n",
      ".\n",
      ".\n",
      "#angelomai #fotoromanza #giorginapi #keepfighting #eventiroma #12settembre #teatroroma #teatro #noageism\n",
      "Cw0U9uSNbEW\n",
      "2023-09-04 17:09:00\n",
      "⚠️Sono attive le prevendite e le prenotazioni per la prima condivisione col pubblico romano di Sogno Creatore [primo studio], il vasto progetto di @bluemotion.theatre , ideato e diretto da @giorgina_pi. In scena il 9, 10, 12 e 13 settembre all' @angelo_mai_roma Attorno a Maria Zambrano, dai testi di Maria Luisa Spaziani e Niki Rebecca Papagheorgiou con @sylviadefanti e Alexia Sarantopoulou. \n",
      "\n",
      "⚠️Posti limitati: prenotazione obbligatoria\n",
      "➡️ link prevendite e programma in bio\n",
      "📧prenotazioni@angelomai.org 🎟️ Biglietto 10 euro + Tessera Arci \n",
      "\n",
      "🔻PROGRAMMA \n",
      "🕘ore 20 (in giardino)\n",
      "Rito d’apertura Farsi Luce [20’]\n",
      "testi di Maria Zambrano letti da Monica Demuru accompagnata al piano da Valerio Vigliar e\n",
      "Andrea Pesce \n",
      "🕘ore 21 ( in teatro)  SOGNO CREATORE [primo studio] [35’]\n",
      "un progetto di Bluemotion\n",
      "ideazione, regia, drammaturgia, scene Giorgina Pi\n",
      "con Sylvia De Fanti, Alexia Sarantopoulou\n",
      "dai testi di Maria Zambrano, Maria Luisa Spaziani, Niki Rebecca Papagheorghiou\n",
      "costumi Sandra Cardini\n",
      "ambiente sonoro Collettivo Angelo Mai\n",
      "musica Valerio Vigliar\n",
      "cura del suono Cristiano De Fabritiis\n",
      "luci Andrea Gallo\n",
      "consulenze letterarie Elisabetta Garieri, Evanghelia Stead, Nana Papagheorghiou\n",
      "traduzioni dal greco Elisabetta Garieri (ed. Argolibri), Alexia Sarantopoulou\n",
      "accompagnamento al lavoro Benedetta Boggio // Rosalba Ruggeri\n",
      "assistente alla produzione Kevin Manuel Rubino\n",
      "produzione Bluemotion/Angelo Mai\n",
      "con il sostegno di Olinda Onlus\n",
      ".\n",
      ".\n",
      "Photo credit: Giorgina Pi\n",
      ".\n",
      ".\n",
      ".\n",
      ".\n",
      ".\n",
      ".\n",
      ".\n",
      ".\n",
      "#angelomai #teatro #sognocreatore #giorginapi #bluemotion #riapertura #eventiroma #teatroroma\n",
      "CwxxpY1NWyA\n",
      "2023-09-01 14:10:16\n",
      "MAGÌA è più di una festa di riapertura. Una festa perché dopo anni di processo il Tribunale di Roma ha dato ragione all’Angelo Mai, accogliendo l’opposizione all’ingiunzione di Roma Capitale sulla base della natura culturale dell’’attività svolta. Una grande festa, un rito musicale, una cosmogonia che si allinea col titolo del nostro nuovo progetto Sogno Creatore.\n",
      "Danzeremo con tant3 djs che hanno scelto L’Angelo Mai come dimora artistica da tanto tempo e per tanto tempo ancora:\n",
      "🔻dal reggae e il funk di @skankphunk \n",
      "🔻alle sonorità afro cosmic dub di @bobcorsi \n",
      "🔻passando per il rock&beats di @francescoforni22 the Cowboy\n",
      "🔻per l’electro Clash & bad taste di @playgirls_from_caracas \n",
      "🔻e la techno hard techno di @djlapucci \n",
      " 🕥h 22.30 🌴giardino \n",
      "🎟️ INGRESSO 5€+ Tessera Arci\n",
      ".\n",
      ".\n",
      ".\n",
      ".\n",
      ".\n",
      ".\n",
      ".\n",
      ".\n",
      ".\n",
      "#angelomai #magia #teatro #festadapertura #djset #party #playgirlsfromcaracas #lapucci #bobcorsi #electro #rock&beats #dub #techno #industrialtechno #eventiroma #eventiromani\n",
      "CwpuzvGNLGV\n",
      "2023-08-30 15:09:07\n",
      "Il 9 settembre 2023 riapriamo le porte dell’Angelo Mai con SOGNO CREATORE, un vasto progetto di @bluemotion.theatre diretto da @giorgina_pi . Una prima condivisione col pubblico romano del viaggio che impegnerà la regista e la sua compagnia nel prossimo anno, di mese in mese dentro lo spazio di viale delle Terme di Caracalla. \n",
      "Il progetto consiste in tre movimenti: SOGNO CREATORE primo studio, FARSI LUCE e FOTOROMANZA.\n",
      "Verranno infatti aperte le porte di un primo studio di SOGNO CREATORE in teatro, della durata di 35 minuti, con @sylviadefanti e Alexia Sarantopoulou.  Verrà eseguita una lettura/rito in giardino FARSI LUCE con Monica Demuru accompagnata al piano da @andrea_fish_pesce e @valeriovigliar . \n",
      "Un’apertura di porte, un rito a cui seguirà una grande festa, MAGìA, perché dopo anni di processo il Tribunale di Roma ha dato ragione all’Angelo Mai,accogliendo l’opposizione al’ingiunzione di Roma Capitale sulla base della natura culturale dell’’attività svolta. In sostanza l’Angelo Mai non dovrà pagare le cifre milionarie pretese dall’amministrazione ma un canone equo e ridotto per merito dell’attività culturale che offre alla città. \n",
      "🔻La festa MAGìA è una celebrazione, una cosmogonia che si allinea col titolo del nuovo progetto Sogno Creatore realizzata in complicità con lə moltə dj che da anni hanno scelto l’Angelo Mai come dimora artistica: Dj2Rud, @bobcorsi , Forni the Cowboy, @playgirls_from_caracas , @djlapucci \n",
      "🔻Il 10, il 12 e il 13 settembre proseguiamo regolarmente con il primo studio di SOGNO CREATORE e la lettura FARSI LUCE.\n",
      "Programma completo ➡️link in bio\n",
      "🎟️Ingresso 10€ + tessera ARCI\n",
      ".\n",
      ".\n",
      ". \n",
      ".\n",
      ".\n",
      ".\n",
      ".\n",
      ".\n",
      ".\n",
      ".\n",
      ". #angelomai #teatro #bluemotion #giorginapi #sognocreatore #primostudio #settembre #eventiroma #teatroroma #vittoria #magia #festa #djset #fotoromanza\n",
      "Cwkr9BJNXMr\n",
      "2023-08-28 15:00:55\n",
      "🔻La seconda sezione civile del tribunale di Roma dà ragione all’ Angelo Mai.\n",
      "Finalmente il tribunale di Roma, dopo anni di processo, ha accolto l’opposizione al’ingiunzione di\n",
      "Roma Capitale sulla base della natura culturale dell’attività svolta dall’Angelo Mai ritenendo ingiustificate le richieste a suo tempo avanzate dall' amministrazione sulla determinazione dei\n",
      "canoni dovuti.  \n",
      "🔻È un primo passo importante per tutta la città, dopo le tante, troppe, risposte negative che hanno pesato sulla vita di molti altri spazi e con forza sul tessuto culturale e sociale cittadino. \n",
      "🔻È arrivato il momento di definire il percorso di regolarizzazione della presenza della nostra\n",
      "associazione nello spazio di Viale delle Terme di Caracalla seguendo le previsioni contenute nel\n",
      "regolamento approvato dall’assemblea capitolina a dicembre dello scorso anno. \n",
      "🔻L’Angelo Mai costituisce anche per la magistratura un presidio culturale importante per Roma e l’amministrazione capitolina non può permettersi di disperdere questa insostituibile esperienza artistica e culturale della città così come le tante esperienze nate dal basso ancora coinvolte in processi e che attendono di definire la propria regolarizzazione.\n",
      "🔥Sosteniamo questa battaglia INSIEME! \n",
      ".\n",
      ".\n",
      ".\n",
      ".\n",
      ".\n",
      ".\n",
      ".\n",
      ".\n",
      ".\n",
      ".\n",
      ".\n",
      ".\n",
      ".\n",
      ".\n",
      ".\n",
      ".\n",
      "#angelomai #romacapitale #vittoria #angelomairoma #newsupdate #spazisociali #processo #vittoriaprocesso #sentenza #tribunale #collettivoangelomai #roma #comunediroma\n",
      "CwfhbLaNaud\n"
     ]
    }
   ],
   "source": [
    "USERNAMES = ['angelo_mai_roma']#, 'forte_antenne', 'nuur.xyz']\n",
    "update_db(USERNAMES)"
   ]
  },
  {
   "cell_type": "code",
   "execution_count": 3,
   "metadata": {},
   "outputs": [],
   "source": [
    "# Delete all files except .txt, .ipynb and .py\n",
    "for root, dirs, files in os.walk(\".\", topdown=False):\n",
    "    for name in files:\n",
    "        if not name.endswith(\".txt\") and not name.endswith(\".ipynb\") and not name.endswith(\".py\"):\n",
    "            os.remove(os.path.join(root, name))"
   ]
  },
  {
   "cell_type": "code",
   "execution_count": 8,
   "metadata": {},
   "outputs": [
    {
     "data": {
      "text/html": [
       "<div>\n",
       "<style scoped>\n",
       "    .dataframe tbody tr th:only-of-type {\n",
       "        vertical-align: middle;\n",
       "    }\n",
       "\n",
       "    .dataframe tbody tr th {\n",
       "        vertical-align: top;\n",
       "    }\n",
       "\n",
       "    .dataframe thead th {\n",
       "        text-align: right;\n",
       "    }\n",
       "</style>\n",
       "<table border=\"1\" class=\"dataframe\">\n",
       "  <thead>\n",
       "    <tr style=\"text-align: right;\">\n",
       "      <th></th>\n",
       "      <th>date</th>\n",
       "      <th>caption</th>\n",
       "      <th>location</th>\n",
       "    </tr>\n",
       "  </thead>\n",
       "  <tbody>\n",
       "    <tr>\n",
       "      <th>0</th>\n",
       "      <td>2023-07-03</td>\n",
       "      <td>if i can t dance it s not my revolution dopo ...</td>\n",
       "      <td>angelo_mai_roma</td>\n",
       "    </tr>\n",
       "    <tr>\n",
       "      <th>1</th>\n",
       "      <td>2023-07-10</td>\n",
       "      <td>venerdi 14 luglio merende presenta superorgani...</td>\n",
       "      <td>angelo_mai_roma</td>\n",
       "    </tr>\n",
       "    <tr>\n",
       "      <th>2</th>\n",
       "      <td>2023-07-19</td>\n",
       "      <td>venerdi 21 luglio superorganismo last dance sp...</td>\n",
       "      <td>angelo_mai_roma</td>\n",
       "    </tr>\n",
       "    <tr>\n",
       "      <th>3</th>\n",
       "      <td>2023-07-28</td>\n",
       "      <td>ci rivediamo il 9 settembre con sogno creatore...</td>\n",
       "      <td>angelo_mai_roma</td>\n",
       "    </tr>\n",
       "    <tr>\n",
       "      <th>4</th>\n",
       "      <td>2023-08-28</td>\n",
       "      <td>la seconda sezione civile del tribunale di rom...</td>\n",
       "      <td>angelo_mai_roma</td>\n",
       "    </tr>\n",
       "  </tbody>\n",
       "</table>\n",
       "</div>"
      ],
      "text/plain": [
       "         date                                            caption  \\\n",
       "0  2023-07-03   if i can t dance it s not my revolution dopo ...   \n",
       "1  2023-07-10  venerdi 14 luglio merende presenta superorgani...   \n",
       "2  2023-07-19  venerdi 21 luglio superorganismo last dance sp...   \n",
       "3  2023-07-28  ci rivediamo il 9 settembre con sogno creatore...   \n",
       "4  2023-08-28  la seconda sezione civile del tribunale di rom...   \n",
       "\n",
       "          location  \n",
       "0  angelo_mai_roma  \n",
       "1  angelo_mai_roma  \n",
       "2  angelo_mai_roma  \n",
       "3  angelo_mai_roma  \n",
       "4  angelo_mai_roma  "
      ]
     },
     "execution_count": 8,
     "metadata": {},
     "output_type": "execute_result"
    }
   ],
   "source": [
    "# Create a dataframe with all the captions\n",
    "def create_db():\n",
    "    df = pd.DataFrame(columns=['date', 'caption', 'location'])\n",
    "    for root, dirs, files in os.walk(\".\", topdown=False):\n",
    "        for name in files:\n",
    "            # Delete all files that are not txt in all subdirectories\n",
    "            if not name.endswith(\".txt\") and not name.endswith(\".ipynb\"):\n",
    "                os.remove(os.path.join(root, name))\n",
    "            # Otherwise\n",
    "            elif name.endswith(\".txt\"):\n",
    "                with open(os.path.join(root, name), 'r', encoding='utf-8') as f: # Maybe an integration with chardet would be better\n",
    "                    caption = f.read()\n",
    "                    caption = fix_text(caption)\n",
    "                    caption = unidecode(caption)\n",
    "                    caption = re.sub(r'\\s+', ' ', caption)\n",
    "                    caption = caption.lower()\n",
    "                    caption = re.sub(r'\\W+', ' ', caption)\n",
    "                    date = re.findall(r'\\d{4}-\\d{2}-\\d{2}', name)[0]\n",
    "                    location = root[2:]\n",
    "                    df = pd.concat([df, pd.DataFrame({'date': [date], 'caption': [caption], 'location': [location]})], ignore_index=True)\n",
    "    df.drop_duplicates(subset=['caption'], inplace=True)\n",
    "    \n",
    "    # Check if the caption refers to an event\n",
    "    whitelist = ['dj set', 'djset', 'concerto', 'live set', 'liveset', 'line up', 'lineup', 'b2b']\n",
    "    blacklist = ['annullato', 'annullata', 'annullare', 'cancellato', 'cancellata', 'posticipato', 'posticipata', 'sospeso', 'sospesa']\n",
    "    df['event'] = df['caption'].str.contains('|'.join(whitelist)) & ~df['caption'].str.contains('|'.join(blacklist))\n",
    "    return df\n",
    "df = create_db()\n",
    "df.head()"
   ]
  },
  {
   "cell_type": "code",
   "execution_count": 9,
   "metadata": {},
   "outputs": [],
   "source": []
  },
  {
   "cell_type": "code",
   "execution_count": 10,
   "metadata": {},
   "outputs": [],
   "source": [
    "df.to_csv('db.csv', index=False)"
   ]
  },
  {
   "cell_type": "markdown",
   "metadata": {},
   "source": [
    "### Single posts handler"
   ]
  },
  {
   "cell_type": "code",
   "execution_count": 2,
   "metadata": {},
   "outputs": [],
   "source": [
    "def ig_post_handler(link):\n",
    "    L = instaloader.Instaloader()\n",
    "    post = instaloader.Post.from_shortcode(L.context, link.split('/')[-2])\n",
    "    return post\n",
    "\n",
    "post = ig_post_handler('https://www.instagram.com/p/CmrVxmut9DQ/?igshid=NzZhOTFlYzFmZQ==')"
   ]
  },
  {
   "cell_type": "code",
   "execution_count": 22,
   "metadata": {},
   "outputs": [],
   "source": [
    "def clean_text(text):\n",
    "    text = fix_text(text)\n",
    "    text = re.sub(r'\\s+', ' ', text)\n",
    "    # text = unidecode(text)\n",
    "    # text = text.lower() # Since gpt better understands uppercase letters, I'll leave them\n",
    "    text = re.sub(r'(?<!\\d)-(?!\\d)', ' ', text) # Delete all special characters a part from the ones dashes that are preceded and followed by numbers\n",
    "    return text"
   ]
  },
  {
   "cell_type": "code",
   "execution_count": 4,
   "metadata": {},
   "outputs": [
    {
     "data": {
      "text/plain": [
       "'CmrVxmut9DQ'"
      ]
     },
     "execution_count": 4,
     "metadata": {},
     "output_type": "execute_result"
    }
   ],
   "source": [
    "post.shortcode"
   ]
  },
  {
   "cell_type": "code",
   "execution_count": 23,
   "metadata": {},
   "outputs": [
    {
     "data": {
      "text/plain": [
       "\"VOLTA 06.01.2023 Il 2023 inizia con una nuova festa NUUR che questa volta appare nel ventre dell'Esquilino, in un antico deposito sotterraneo. In console Brando Lupi, ambasciatore romano dell'hypnotic techno e Close Listen, produttore trap che torna dietro la consolle per un inedito dj set techno. Brando Lupi @brando.lupi Close Listen @closelisten Dj Ostia @kodacci Diablo Viola @__lucaviola__ Dalle 22.30 fino a tardi Club 79 (Ex Micca Club) Via Pietro Micca 7, Roma TICKET: in prevendita 15€ + drink, alla porta 15€ LINK IN BIO\""
      ]
     },
     "execution_count": 23,
     "metadata": {},
     "output_type": "execute_result"
    }
   ],
   "source": [
    "caption = clean_text(post.caption)\n",
    "caption"
   ]
  }
 ],
 "metadata": {
  "kernelspec": {
   "display_name": "py3.11",
   "language": "python",
   "name": "python3"
  },
  "language_info": {
   "codemirror_mode": {
    "name": "ipython",
    "version": 3
   },
   "file_extension": ".py",
   "mimetype": "text/x-python",
   "name": "python",
   "nbconvert_exporter": "python",
   "pygments_lexer": "ipython3",
   "version": "3.9.7"
  },
  "orig_nbformat": 4
 },
 "nbformat": 4,
 "nbformat_minor": 2
}
